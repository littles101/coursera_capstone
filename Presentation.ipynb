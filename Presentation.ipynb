{
 "cells": [
  {
   "cell_type": "markdown",
   "metadata": {},
   "source": [
    "# 1 Introduction\n",
    "I currently live in a neighborhood that I really like. If I have to move to a new city, I want to find a similar neighborhood. In this project I am writing a program that will evaluate Neighborhoods close to a user-defined destination and compares them to an (also user-defined) reference neighborhood. The scope of the project is limited to Germany.\n",
    "In order to get the location data for german neighborhoods, data from opendatasoft.com is used.\n",
    "The neighborhoods are evaluated based on venues listed in foursquare"
   ]
  },
  {
   "cell_type": "code",
   "execution_count": null,
   "metadata": {},
   "outputs": [],
   "source": []
  }
 ],
 "metadata": {
  "kernelspec": {
   "display_name": "Python",
   "language": "python",
   "name": "conda-env-python-py"
  },
  "language_info": {
   "codemirror_mode": {
    "name": "ipython",
    "version": 3
   },
   "file_extension": ".py",
   "mimetype": "text/x-python",
   "name": "python",
   "nbconvert_exporter": "python",
   "pygments_lexer": "ipython3",
   "version": "3.6.10"
  }
 },
 "nbformat": 4,
 "nbformat_minor": 4
}
